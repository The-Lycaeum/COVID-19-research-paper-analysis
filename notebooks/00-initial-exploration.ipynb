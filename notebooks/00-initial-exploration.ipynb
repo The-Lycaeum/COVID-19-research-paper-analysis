{
 "cells": [
  {
   "cell_type": "code",
   "execution_count": 2,
   "metadata": {},
   "outputs": [
    {
     "name": "stdout",
     "output_type": "stream",
     "text": [
      "Sun Apr 12 2020 \n",
      "\n",
      "CPython 3.7.4\n",
      "IPython 5.5.0\n",
      "\n",
      "numpy 1.16.4\n",
      "scipy 1.3.1\n",
      "sklearn 0.0\n",
      "pandas 0.24.2\n",
      "\n",
      "compiler   : MSC v.1915 64 bit (AMD64)\n",
      "system     : Windows\n",
      "release    : 10\n",
      "machine    : AMD64\n",
      "processor  : Intel64 Family 6 Model 158 Stepping 10, GenuineIntel\n",
      "CPU cores  : 12\n",
      "interpreter: 64bit\n"
     ]
    }
   ],
   "source": [
    "%load_ext watermark\n",
    "%watermark -v -n -m -p numpy,scipy,sklearn,pandas"
   ]
  },
  {
   "cell_type": "code",
   "execution_count": 3,
   "metadata": {},
   "outputs": [
    {
     "name": "stdout",
     "output_type": "stream",
     "text": [
      "E:\\Root\\GitHub\\COVID-19-research-paper-analysis\n"
     ]
    }
   ],
   "source": [
    "%matplotlib inline\n",
    "import pandas as pd\n",
    "import numpy as np\n",
    "import seaborn as sns\n",
    "import os\n",
    "PROJ_ROOT = os.path.abspath(os.path.join(os.pardir))\n",
    "print(PROJ_ROOT)"
   ]
  },
  {
   "cell_type": "code",
   "execution_count": 4,
   "metadata": {},
   "outputs": [],
   "source": [
    "import os\n",
    "import json\n",
    "from pprint import pprint\n",
    "from copy import deepcopy\n",
    "\n",
    "import numpy as np\n",
    "import pandas as pd\n",
    "from tqdm.notebook import tqdm\n",
    "\n",
    "\n",
    "## formats the author's names in a consistent manner\n",
    "\n",
    "def format_name(author):\n",
    "    middle_name = \" \".join(author['middle'])\n",
    "    \n",
    "    if author['middle']:\n",
    "        return \" \".join([author['first'], middle_name, author['last']])\n",
    "    else:\n",
    "        return \" \".join([author['first'], author['last']])\n",
    "\n",
    "## parses metadata block to extract text of author affiliations, e.g., university\n",
    "\n",
    "def format_affiliation(affiliation):\n",
    "    text = []\n",
    "    location = affiliation.get('location')\n",
    "    if location:\n",
    "        text.extend(list(affiliation['location'].values()))\n",
    "    \n",
    "    institution = affiliation.get('institution')\n",
    "    if institution:\n",
    "        text = [institution] + text\n",
    "    return \", \".join(text)\n",
    "\n",
    "\n",
    "## parses metadata block to extract text of the authors\n",
    "\n",
    "def format_authors(authors, with_affiliation=False):\n",
    "    name_ls = []\n",
    "    \n",
    "    for author in authors:\n",
    "        name = format_name(author)\n",
    "        if with_affiliation:\n",
    "            affiliation = format_affiliation(author['affiliation'])\n",
    "            if affiliation:\n",
    "                name_ls.append(f\"{name} ({affiliation})\")\n",
    "            else:\n",
    "                name_ls.append(name)\n",
    "        else:\n",
    "            name_ls.append(name)\n",
    "    \n",
    "    return \", \".join(name_ls)\n",
    "\n",
    "## formats the body content block of the article text\n",
    "\n",
    "def format_body(body_text):\n",
    "    texts = [(di['section'], di['text']) for di in body_text]\n",
    "    texts_di = {di['section']: \"\" for di in body_text}\n",
    "    \n",
    "    for section, text in texts:\n",
    "        texts_di[section] += text\n",
    "\n",
    "    body = \"\"\n",
    "\n",
    "    for section, text in texts_di.items():\n",
    "        body += section\n",
    "        body += \"\\n\\n\"\n",
    "        body += text\n",
    "        body += \"\\n\\n\"\n",
    "    \n",
    "    return body\n",
    "\n",
    "## formats the bibliography metadata\n",
    "\n",
    "def format_bib(bibs):\n",
    "    if type(bibs) == dict:\n",
    "        bibs = list(bibs.values())\n",
    "    bibs = deepcopy(bibs)\n",
    "    formatted = []\n",
    "    \n",
    "    for bib in bibs:\n",
    "        bib['authors'] = format_authors(\n",
    "            bib['authors'], \n",
    "            with_affiliation=False\n",
    "        )\n",
    "        formatted_ls = [str(bib[k]) for k in ['title', 'authors', 'venue', 'year']]\n",
    "        formatted.append(\", \".join(formatted_ls))\n",
    "\n",
    "    return \"; \".join(formatted)"
   ]
  },
  {
   "cell_type": "code",
   "execution_count": 5,
   "metadata": {},
   "outputs": [],
   "source": [
    "##loads the files into memory as a list\n",
    "\n",
    "def load_files(dirname):\n",
    "    filenames = os.listdir(dirname)\n",
    "    raw_files = []\n",
    "\n",
    "    for filename in tqdm(filenames):\n",
    "        filename = dirname + filename\n",
    "        file = json.load(open(filename, 'rb'))\n",
    "        raw_files.append(file)\n",
    "    \n",
    "    return raw_files\n",
    "\n",
    "## pushes the json loaded files into data frame(s)\n",
    "\n",
    "def generate_clean_df(all_files):\n",
    "    cleaned_files = []\n",
    "    \n",
    "    for file in tqdm(all_files):\n",
    "        features = [\n",
    "            file['paper_id'],\n",
    "            file['metadata']['title'],\n",
    "            format_authors(file['metadata']['authors']),\n",
    "            format_authors(file['metadata']['authors'], \n",
    "                           with_affiliation=True),\n",
    "            format_body(file['abstract']),\n",
    "            format_body(file['body_text']),\n",
    "            format_bib(file['bib_entries']),\n",
    "            file['metadata']['authors'],\n",
    "            file['bib_entries']\n",
    "        ]\n",
    "\n",
    "        cleaned_files.append(features)\n",
    "\n",
    "    col_names = ['paper_id', 'title', 'authors',\n",
    "                 'affiliations', 'abstract', 'text', \n",
    "                 'bibliography','raw_authors','raw_bibliography']\n",
    "\n",
    "    clean_df = pd.DataFrame(cleaned_files, columns=col_names)\n",
    "    clean_df.head()\n",
    "    \n",
    "    return clean_df"
   ]
  },
  {
   "cell_type": "code",
   "execution_count": 6,
   "metadata": {},
   "outputs": [
    {
     "name": "stdout",
     "output_type": "stream",
     "text": [
      "Number of articles retrieved from biorxiv: 1625\n"
     ]
    }
   ],
   "source": [
    "## see how many articles there are in biorxiv_dir\n",
    "\n",
    "biorxiv_dir = '../data/interim/biorxiv_medrxiv/pdf_json/'\n",
    "filenames = os.listdir(biorxiv_dir)\n",
    "print(\"Number of articles retrieved from biorxiv:\", len(filenames))"
   ]
  },
  {
   "cell_type": "code",
   "execution_count": 7,
   "metadata": {},
   "outputs": [],
   "source": [
    "## Loop through all files and save their information in the list\n",
    "\n",
    "all_files = []\n",
    "\n",
    "for filename in filenames:\n",
    "    filename = biorxiv_dir + filename\n",
    "    file = json.load(open(filename, 'rb'))\n",
    "    all_files.append(file)"
   ]
  },
  {
   "cell_type": "code",
   "execution_count": 8,
   "metadata": {},
   "outputs": [
    {
     "name": "stdout",
     "output_type": "stream",
     "text": [
      "Dictionary keys: dict_keys(['paper_id', 'metadata', 'abstract', 'body_text', 'bib_entries', 'ref_entries', 'back_matter'])\n"
     ]
    }
   ],
   "source": [
    "## take a look at one of the files\n",
    "\n",
    "file = all_files[0]\n",
    "print(\"Dictionary keys:\", file.keys())"
   ]
  },
  {
   "cell_type": "code",
   "execution_count": 9,
   "metadata": {
    "scrolled": true
   },
   "outputs": [
    {
     "name": "stdout",
     "output_type": "stream",
     "text": [
      "[{'cite_spans': [],\n",
      "  'ref_spans': [],\n",
      "  'section': 'Abstract',\n",
      "  'text': 'word count: 194 22 Text word count: 5168 23 24 25 author/funder. '\n",
      "          'All rights reserved. No reuse allowed without permission. Abstract '\n",
      "          '27 The positive stranded RNA genomes of picornaviruses comprise a '\n",
      "          'single large open reading 28 frame flanked by 5′ and 3′ '\n",
      "          'untranslated regions (UTRs). Foot-and-mouth disease virus (FMDV) 29 '\n",
      "          'has an unusually large 5′ UTR (1.3 kb) containing five structural '\n",
      "          'domains. These include the 30 internal ribosome entry site (IRES), '\n",
      "          'which facilitates initiation of translation, and the cis-acting 31 '\n",
      "          'replication element (cre). Less well characterised structures are a '\n",
      "          '5′ terminal 360 nucleotide 32 stem-loop, a variable length '\n",
      "          'poly-C-tract of approximately 100-200 nucleotides and a series of '\n",
      "          '33 two to four tandemly repeated pseudoknots (PKs). We investigated '\n",
      "          'the structures of the PKs 34 by selective 2′ hydroxyl acetylation '\n",
      "          'analysed by primer extension (SHAPE) analysis and 35 determined '\n",
      "          'their contribution to genome replication by mutation and deletion '\n",
      "          'experiments. 36 SHAPE and mutation experiments confirmed the '\n",
      "          'importance of the previously predicted PK 37 structures for their '\n",
      "          'function. Deletion experiments showed that although PKs are not '\n",
      "          'essential 38'},\n",
      " {'cite_spans': [],\n",
      "  'ref_spans': [],\n",
      "  'section': 'Abstract',\n",
      "  'text': 'for replication, they provide genomes with a competitive advantage. '\n",
      "          'However, although 39 replicons and full-length genomes lacking all '\n",
      "          'PKs were replication competent, no infectious 40 virus was rescued '\n",
      "          'from genomes containing less than one PK copy. This is consistent '\n",
      "          'with our 41 earlier report describing the presence of putative '\n",
      "          'packaging signals in the PK region. 42 43 author/funder. All rights '\n",
      "          'reserved. No reuse allowed without permission.'}]\n"
     ]
    }
   ],
   "source": [
    "## Print an abstract of the data dictionary\n",
    "\n",
    "pprint(file['abstract'])"
   ]
  },
  {
   "cell_type": "code",
   "execution_count": 10,
   "metadata": {},
   "outputs": [
    {
     "name": "stdout",
     "output_type": "stream",
     "text": [
      "body_text type: <class 'list'>\n",
      "body_text length: 20\n",
      "body_text keys: dict_keys(['text', 'cite_spans', 'ref_spans', 'section'])\n"
     ]
    }
   ],
   "source": [
    "## look at some of the \"body_text\" characteristics of this first file\n",
    "\n",
    "print(\"body_text type:\", type(file['body_text']))\n",
    "print(\"body_text length:\", len(file['body_text']))\n",
    "print(\"body_text keys:\", file['body_text'][0].keys())"
   ]
  },
  {
   "cell_type": "code",
   "execution_count": 11,
   "metadata": {
    "scrolled": true
   },
   "outputs": [
    {
     "name": "stdout",
     "output_type": "stream",
     "text": [
      "body_text content:\n",
      "[{'cite_spans': [],\n",
      "  'ref_spans': [{...}],\n",
      "  'section': '',\n",
      "  'text': 'VP3, and VP0 (which is further processed to VP2 and VP4 during '\n",
      "          'virus assembly) (6). The P2 64 and P3 regions encode the '\n",
      "          'non-structural proteins 2B and 2C and 3A, 3B (1-3) (VPg), 3C pro '\n",
      "          'and 4 structural protein-coding region is replaced by reporter '\n",
      "          'genes, allow the study of genome 68 replication without the '\n",
      "          'requirement for high containment (9, 10) ( figure 1A ).'},\n",
      " {'cite_spans': [{...}, {...}, {...}, {...}, {...}, {...}],\n",
      "  'ref_spans': [],\n",
      "  'section': '70',\n",
      "  'text': 'The FMDV 5′ UTR is the largest known picornavirus UTR, comprising '\n",
      "          'approximately 1300 71 nucleotides and containing several highly '\n",
      "          'structured regions. The first 360 nucleotides at the 5′ 72 end are '\n",
      "          'predicted to fold into a single large stem loop termed the '\n",
      "          'S-fragment, followed by a The PKs were originally predicted in 1987 '\n",
      "          'and consist of two to four tandem repeats of a ~48 86 nucleotide '\n",
      "          'region containing a small stem loop and downstream interaction site '\n",
      "          '(figure 1B) 87 (12). Due to the sequence similarity between the PKs '\n",
      "          '(figure 1C), it is speculated that they 88 were formed by '\n",
      "          'duplication events during viral replication, probably involving '\n",
      "          'recombination. 89 Between two and four PKs are present in different '\n",
      "          'virus isolates but no strain has been 90 identified with less than '\n",
      "          'two PKs, emphasising their potential importance in the viral life '\n",
      "          'cycle 91 (19, 20) . The presence of PKs has been reported in the 5′ '\n",
      "          'UTR of other picornaviruses such as 92 author/funder. All rights '\n",
      "          'reserved. No reuse allowed without permission. can occur in the '\n",
      "          'absence of PKs at least one is required for wild-type (wt) '\n",
      "          'replication. 104 Furthermore, competition experiments showed that '\n",
      "          'extra copies of PKs conferred a replicative 105 advantage to '\n",
      "          'genomes. Although replicons and full-length genomes lacking PKs '\n",
      "          'were 106 replication-competent, no infectious virus was rescued '\n",
      "          'from genomes containing less than one 107 PK copy. This is '\n",
      "          'consistent with our earlier report describing the presence of '\n",
      "          'putative 108 packaging signals in the PK region (22). 109 110 '\n",
      "          'author/funder. All rights reserved. No reuse allowed without '\n",
      "          'permission. Plasmid construction. 117 The FMDV replicon plasmids, '\n",
      "          'pRep-ptGFP, and the replication-defective polymerase mutant 118 '\n",
      "          'control, 3D-GNN, have already been described (10).'}]\n"
     ]
    }
   ],
   "source": [
    "## looks like there are some nested structures in \"body_text\"\n",
    "## let's extract some of them and see what we have...\n",
    "\n",
    "print(\"body_text content:\")\n",
    "pprint(file['body_text'][:2], depth=3)"
   ]
  },
  {
   "cell_type": "code",
   "execution_count": 12,
   "metadata": {},
   "outputs": [
    {
     "name": "stdout",
     "output_type": "stream",
     "text": [
      "['',\n",
      " '70',\n",
      " '120',\n",
      " '135',\n",
      " '136',\n",
      " '144',\n",
      " '301',\n",
      " 'Function of the PKs in replication is dependent on downstream interactions '\n",
      " 'and 350',\n",
      " '368',\n",
      " '468',\n",
      " '479']\n"
     ]
    }
   ],
   "source": [
    "## extract the grouped \"section\" titles\n",
    "\n",
    "texts = [(di['section'], di['text']) for di in file['body_text']]\n",
    "texts_di = {di['section']: \"\" for di in file['body_text']}\n",
    "for section, text in texts:\n",
    "    texts_di[section] += text\n",
    "\n",
    "pprint(list(texts_di.keys()))"
   ]
  },
  {
   "cell_type": "code",
   "execution_count": 13,
   "metadata": {
    "scrolled": true
   },
   "outputs": [
    {
     "name": "stdout",
     "output_type": "stream",
     "text": [
      "\n",
      "\n",
      "VP3, and VP0 (which is further processed to VP2 and VP4 during virus assembly) (6). The P2 64 and P3 regions encode the non-structural proteins 2B and 2C and 3A, 3B (1-3) (VPg), 3C pro and 4 structural protein-coding region is replaced by reporter genes, allow the study of genome 68 replication without the requirement for high containment (9, 10) ( figure 1A ).\n",
      "\n",
      "70\n",
      "\n",
      "The FMDV 5′ UTR is the largest known picornavirus UTR, comprising approximately 1300 71 nucleotides and containing several highly structured regions. The first 360 nucleotides at the 5′ 72 end are predicted to fold into a single large stem loop termed the S-fragment, followed by a The PKs were originally predicted in 1987 and consist of two to four tandem repeats of a ~48 86 nucleotide region containing a small stem loop and downstream interaction site (figure 1B) 87 (12). Due to the sequence similarity between the PKs (figure 1C), it is speculated that they 88 were formed by duplication events during viral replication, probably involving recombination. 89 Between two and four PKs are present in different virus isolates but no strain has been 90 identified with less than two PKs, emphasising their potential importance in the viral life cycle 91 (19, 20) . The presence of PKs has been reported in the 5′ UTR of other picornaviruses such as 92 author/funder. All rights reserved. No reuse allowed without permission. can occur in the absence of PKs at least one is required for wild-type (wt) replication. 104 Furthermore, competition experiments showed that extra copies of PKs conferred a replicative 105 advantage to genomes. Although replicons and full-length genomes lacking PKs were 106 replication-competent, no infectious virus was rescued from genomes containing less than one 107 PK copy. This is consistent with our earlier report describing the presence of putative 108 packaging signals in the PK region (22). 109 110 author/funder. All rights reserved. No reuse allowed without permission. Plasmid construction. 117 The FMDV replicon plasmids, pRep-ptGFP, and the replication-defective polymerase mutant 118 control, 3D-GNN, have already been described (10).\n",
      "\n",
      "120\n",
      "\n",
      "To introduce mutations into the PK region, the pRep-ptGFP replicon plasmid was digested 121 with SpeI and KpnI and the resulting fragment inserted into a sub-cloning vector (pBluescript) 122 to create the pBluescript PK. PKs 3 and 4 were removed by digestion with HindIII and AatII 123 before insertion of a synthetic DNA sequence with PK 3 and 4 deleted. PKs 2, 3 and 4 were 124 deleted by PCR amplification using ΔPK 234 Forward primer and FMDV 1331-1311 reverse 125 primer, the resultant product was digested with HindIII and AatII and ligated into the 126 pBluescript PK vector. Complete PK deletion was achieved by introduction of an AflII site at 127 the 3′ end of the poly-C tract by PCR mutagenesis to create the sub-cloning vector, pBluescript 128 C11, which was then used to remove all the PKs by PCR mutagenesis using ΔPK 1234 f\n"
     ]
    }
   ],
   "source": [
    "## formatting each section title with the correct content\n",
    "## limiting to 3000 characters\n",
    "\n",
    "body = \"\"\n",
    "\n",
    "for section, text in texts_di.items():\n",
    "    body += section\n",
    "    body += \"\\n\\n\"\n",
    "    body += text\n",
    "    body += \"\\n\\n\"\n",
    "\n",
    "print(body[:3000])"
   ]
  },
  {
   "cell_type": "code",
   "execution_count": 14,
   "metadata": {
    "scrolled": true
   },
   "outputs": [
    {
     "name": "stdout",
     "output_type": "stream",
     "text": [
      "\n",
      "\n",
      "VP3, and VP0 (which is further processed to VP2 and VP4 during virus assembly) (6). The P2 64 and P3 regions encode the non-structural proteins 2B and 2C and 3A, 3B (1-3) (VPg), 3C pro and 4 structural protein-coding region is replaced by reporter genes, allow the study of genome 68 replication without the requirement for high containment (9, 10) ( figure 1A ).\n",
      "\n",
      "70\n",
      "\n",
      "The FMDV 5′ UTR is the largest known picornavirus UTR, comprising approximately 1300 71 nucleotides and containing several highly structured regions. The first 360 nucleotides at the 5′ 72 end are predicted to fold into a single large stem loop termed the S-fragment, followed by a The PKs were originally predicted in 1987 and consist of two to four tandem repeats of a ~48 86 nucleotide region containing a small stem loop and downstream interaction site (figure 1B) 87 (12). Due to the sequence similarity between the PKs (figure 1C), it is speculated that they 88 were formed by duplication events during viral replication, probably involving recombination. 89 Between two and four PKs are present in different virus isolates but no strain has been 90 identified with less than two PKs, emphasising their potential importance in the viral life cycle 91 (19, 20) . The presence of PKs has been reported in the 5′ UTR of other picornaviruses such as 92 author/funder. All rights reserved. No reuse allowed without permission. can occur in the absence of PKs at least one is required for wild-type (wt) replication. 104 Furthermore, competition experiments showed that extra copies of PKs conferred a replicative 105 advantage to genomes. Although replicons and full-length genomes lacking PKs were 106 replication-competent, no infectious virus was rescued from genomes containing less than one 107 PK copy. This is consistent with our earlier report describing the presence of putative 108 packaging signals in the PK region (22). 109 110 author/funder. All rights reserved. No reuse allowed without permission. Plasmid construction. 117 The FMDV replicon plasmids, pRep-ptGFP, and the replication-defective polymerase mutant 118 control, 3D-GNN, have already been described (10).\n",
      "\n",
      "120\n",
      "\n",
      "To introduce mutations into the PK region, the pRep-ptGFP replicon plasmid was digested 121 with SpeI and KpnI and the resulting fragment inserted into a sub-cloning vector (pBluescript) 122 to create the pBluescript PK. PKs 3 and 4 were removed by digestion with HindIII and AatII 123 before insertion of a synthetic DNA sequence with PK 3 and 4 deleted. PKs 2, 3 and 4 were 124 deleted by PCR amplification using ΔPK 234 Forward primer and FMDV 1331-1311 reverse 125 primer, the resultant product was digested with HindIII and AatII and ligated into the 126 pBluescript PK vector. Complete PK deletion was achieved by introduction of an AflII site at 127 the 3′ end of the poly-C tract by PCR mutagenesis to create the sub-cloning vector, pBluescript 128 C11, which was then used to remove all the PKs by PCR mutagenesis using ΔPK 1234 f\n"
     ]
    }
   ],
   "source": [
    "## same as above but in a single line (display looks same as above)\n",
    "\n",
    "print(format_body(file['body_text'])[:3000])"
   ]
  },
  {
   "cell_type": "markdown",
   "metadata": {},
   "source": [
    "## Metadata"
   ]
  },
  {
   "cell_type": "code",
   "execution_count": 15,
   "metadata": {},
   "outputs": [
    {
     "name": "stdout",
     "output_type": "stream",
     "text": [
      "dict_keys(['title', 'authors'])\n"
     ]
    }
   ],
   "source": [
    "## what's in the metadata dictionary:\n",
    "\n",
    "print(all_files[0]['metadata'].keys())"
   ]
  },
  {
   "cell_type": "code",
   "execution_count": 16,
   "metadata": {},
   "outputs": [
    {
     "name": "stdout",
     "output_type": "stream",
     "text": [
      "The RNA pseudoknots in foot-and-mouth disease virus are dispensable for genome replication but essential for the production of infectious virus. 2 3\n"
     ]
    }
   ],
   "source": [
    "## sample of contents of the metadata title\n",
    "\n",
    "print(all_files[0]['metadata']['title'])"
   ]
  },
  {
   "cell_type": "code",
   "execution_count": 17,
   "metadata": {
    "scrolled": true
   },
   "outputs": [
    {
     "name": "stdout",
     "output_type": "stream",
     "text": [
      "[{'affiliation': {},\n",
      "  'email': '',\n",
      "  'first': 'D',\n",
      "  'last': 'Luis',\n",
      "  'middle': ['Sc Eric'],\n",
      "  'suffix': ''},\n",
      " {'affiliation': {'institution': 'Brazilian Federal Court of Accounts',\n",
      "                  'laboratory': '',\n",
      "                  'location': {'country': 'Brazil',\n",
      "                               'postCode': '70042-900',\n",
      "                               'region': 'DF',\n",
      "                               'settlement': 'Brasília'}},\n",
      "  'email': '',\n",
      "  'first': 'Barroso',\n",
      "  'last': 'Cavalcante',\n",
      "  'middle': [],\n",
      "  'suffix': ''},\n",
      " {'affiliation': {},\n",
      "  'email': '',\n",
      "  'first': 'M',\n",
      "  'last': 'Cristina',\n",
      "  'middle': ['D Juliana'],\n",
      "  'suffix': ''}]\n"
     ]
    }
   ],
   "source": [
    "## sample of contents of the metadata authors (limited to 3)\n",
    "\n",
    "authors = all_files[52]['metadata']['authors']\n",
    "pprint(authors[:3])"
   ]
  },
  {
   "cell_type": "code",
   "execution_count": 18,
   "metadata": {},
   "outputs": [
    {
     "name": "stdout",
     "output_type": "stream",
     "text": [
      "Name: D Sc Eric Luis\n",
      "Affiliation: \n",
      "\n",
      "Name: Barroso Cavalcante\n",
      "Affiliation: Brazilian Federal Court of Accounts, 70042-900, Brasília, DF, Brazil\n",
      "\n",
      "Name: M D Juliana Cristina\n",
      "Affiliation: \n",
      "\n",
      "Name: Cardoso Ferreira\n",
      "Affiliation: Federal University of São Paulo, 04021-001, São Paulo, SP, Brazil\n",
      "\n"
     ]
    }
   ],
   "source": [
    "## using two of the formatting functions\n",
    "\n",
    "for author in authors:\n",
    "    print(\"Name:\", format_name(author))\n",
    "    print(\"Affiliation:\", format_affiliation(author['affiliation']))\n",
    "    print()"
   ]
  },
  {
   "cell_type": "code",
   "execution_count": 19,
   "metadata": {
    "scrolled": true
   },
   "outputs": [
    {
     "name": "stdout",
     "output_type": "stream",
     "text": [
      "{'authors': [{'affiliation': {'institution': 'University of Georgia',\n",
      "                              'laboratory': '',\n",
      "                              'location': {...}},\n",
      "              'email': '',\n",
      "              'first': 'Salman',\n",
      "              'last': 'Butt',\n",
      "              'middle': ['L'],\n",
      "              'suffix': ''},\n",
      "             {'affiliation': {'institution': 'University of Georgia',\n",
      "                              'laboratory': '',\n",
      "                              'location': {...}},\n",
      "              'email': '',\n",
      "              'first': 'Eric',\n",
      "              'last': 'Erwood',\n",
      "              'middle': ['C'],\n",
      "              'suffix': ''},\n",
      "             {'affiliation': {'institution': 'University of Georgia',\n",
      "                              'laboratory': '',\n",
      "                              'location': {...}},\n",
      "              'email': '',\n",
      "              'first': 'Jian',\n",
      "              'last': 'Zhang',\n",
      "              'middle': [],\n",
      "              'suffix': ''},\n",
      "             {'affiliation': {'institution': 'University of Georgia',\n",
      "                              'laboratory': '',\n",
      "                              'location': {...}},\n",
      "              'email': '',\n",
      "              'first': 'Holly',\n",
      "              'last': 'Sellers',\n",
      "              'middle': ['S'],\n",
      "              'suffix': ''},\n",
      "             {'affiliation': {'institution': 'University of Georgia',\n",
      "                              'laboratory': '',\n",
      "                              'location': {...}},\n",
      "              'email': '',\n",
      "              'first': 'Kelsey',\n",
      "              'last': 'Young',\n",
      "              'middle': [],\n",
      "              'suffix': ''},\n",
      "             {'affiliation': {'institution': 'Virginia Polytechnical Institute '\n",
      "                                             'and State University',\n",
      "                              'laboratory': '',\n",
      "                              'location': {...}},\n",
      "              'email': '',\n",
      "              'first': 'Kevin',\n",
      "              'last': 'Lahmers',\n",
      "              'middle': ['K'],\n",
      "              'suffix': ''},\n",
      "             {'affiliation': {'institution': 'University of Georgia',\n",
      "                              'laboratory': '',\n",
      "                              'location': {...}},\n",
      "              'email': '',\n",
      "              'first': 'James',\n",
      "              'last': 'Stanton',\n",
      "              'middle': ['B'],\n",
      "              'suffix': ''}],\n",
      " 'title': 'Real-time, MinION-based, amplicon sequencing for lineage typing of '\n",
      "          'infectious bronchitis virus from upper respiratory samples'}\n"
     ]
    }
   ],
   "source": [
    "## longer list of authors\n",
    "\n",
    "pprint(all_files[4]['metadata'], depth=4)"
   ]
  },
  {
   "cell_type": "code",
   "execution_count": 20,
   "metadata": {},
   "outputs": [
    {
     "name": "stdout",
     "output_type": "stream",
     "text": [
      "Formatting without affiliation:\n",
      "Salman L Butt, Eric C Erwood, Jian Zhang, Holly S Sellers, Kelsey Young, Kevin K Lahmers, James B Stanton\n",
      "\n",
      "Formatting with affiliation:\n",
      "Salman L Butt (University of Georgia, 30602, Athens, GA, USA), Eric C Erwood (University of Georgia, 30602, Athens, GA, USA), Jian Zhang (University of Georgia, 30602, Athens, GA, USA), Holly S Sellers (University of Georgia, 30602, Athens, GA, USA), Kelsey Young (University of Georgia, 30602, Athens, GA, USA), Kevin K Lahmers (Virginia Polytechnical Institute and State University, 24061, Blacksburg, VA, USA), James B Stanton (University of Georgia, 30602, Athens, GA, USA)\n"
     ]
    }
   ],
   "source": [
    "## showing the formatting of all authors from a longer list\n",
    "## optional argument to show affiliation\n",
    "\n",
    "authors = all_files[4]['metadata']['authors']\n",
    "print(\"Formatting without affiliation:\")\n",
    "print(format_authors(authors, with_affiliation=False))\n",
    "print(\"\\nFormatting with affiliation:\")\n",
    "print(format_authors(authors, with_affiliation=True))"
   ]
  },
  {
   "cell_type": "markdown",
   "metadata": {},
   "source": [
    "## Bibliography"
   ]
  },
  {
   "cell_type": "code",
   "execution_count": 21,
   "metadata": {
    "scrolled": true
   },
   "outputs": [
    {
     "name": "stdout",
     "output_type": "stream",
     "text": [
      "[{'authors': [{'first': 'T', 'last': 'Jackson', 'middle': [], 'suffix': ''},\n",
      "              {'first': 'T', 'last': 'Tuthill', 'middle': [...], 'suffix': ''},\n",
      "              {'first': 'D', 'last': 'Rowlands', 'middle': [...], 'suffix': ''},\n",
      "              {'first': 'N',\n",
      "               'last': 'Stonehouse',\n",
      "               'middle': [...],\n",
      "               'suffix': ''}],\n",
      "  'issn': '',\n",
      "  'other_ids': {},\n",
      "  'pages': '',\n",
      "  'ref_id': 'b0',\n",
      "  'title': 'Genetic economy in 598 picornaviruses: Foot-and-mouth disease '\n",
      "           'virus replication exploits alternative precursor 599 cleavage '\n",
      "           'pathways',\n",
      "  'venue': 'PLOS Pathog',\n",
      "  'volume': '13',\n",
      "  'year': 2017},\n",
      " {'authors': [{'first': 'N',\n",
      "               'last': 'Sanderson',\n",
      "               'middle': [...],\n",
      "               'suffix': ''},\n",
      "              {'first': 'N', 'last': 'Knowles', 'middle': [...], 'suffix': ''},\n",
      "              {'first': 'D', 'last': 'King', 'middle': [...], 'suffix': ''},\n",
      "              {'first': 'E', 'last': 'Cottam', 'middle': [...], 'suffix': ''}],\n",
      "  'issn': '',\n",
      "  'other_ids': {},\n",
      "  'pages': '',\n",
      "  'ref_id': 'b2',\n",
      "  'title': 'A universal protocol to 602 generate consensus level genome '\n",
      "           'sequences for foot-and-mouth disease virus and other 603 '\n",
      "           'positive-sense polyadenylated RNA viruses using the Illumina MiSeq',\n",
      "  'venue': 'BMC Genomics',\n",
      "  'volume': '604',\n",
      "  'year': 2014}]\n"
     ]
    }
   ],
   "source": [
    "bibs = list(file['bib_entries'].values())\n",
    "pprint(bibs[:2], depth=4)"
   ]
  },
  {
   "cell_type": "code",
   "execution_count": 22,
   "metadata": {},
   "outputs": [
    {
     "data": {
      "text/plain": [
       "'N D Sanderson, N J Knowles, D P King, E M Cottam'"
      ]
     },
     "execution_count": 22,
     "metadata": {},
     "output_type": "execute_result"
    }
   ],
   "source": [
    "## reusing the author's formatting function\n",
    "\n",
    "format_authors(bibs[1]['authors'], with_affiliation=False)"
   ]
  },
  {
   "cell_type": "code",
   "execution_count": 23,
   "metadata": {},
   "outputs": [
    {
     "name": "stdout",
     "output_type": "stream",
     "text": [
      "Genetic economy in 598 picornaviruses: Foot-and-mouth disease virus replication exploits alternative precursor 599 cleavage pathways, T Jackson, T J Tuthill, D J Rowlands, N J Stonehouse, PLOS Pathog, 2017; A universal protocol to 602 generate consensus level genome sequences for foot-and-mouth disease virus and other 603 positive-sense polyadenylated RNA viruses using the Illumina MiSeq, N D Sanderson, N J Knowles, D P King, E M Cottam, BMC Genomics, 2014; Library preparation for highly accurate population 606 sequencing of RNA viruses, A Acevedo, R Andino, Nat Protoc, 2014; IDBA-UD: a de novo assembler for 608 single-cell and metagenomic sequencing data with highly uneven depth, Y Peng, Hcm Leung, S M Yiu, Fyl Chin, , 2012; Basic local alignment 611 search tool, S F Altschul, W Gish, W Miller, E W Myers, D J Lipman, J Mol Biol, 1990\n"
     ]
    }
   ],
   "source": [
    "## complete formatting of bibliography\n",
    "\n",
    "bib_formatted = format_bib(bibs[:5])\n",
    "print(bib_formatted)"
   ]
  },
  {
   "cell_type": "markdown",
   "metadata": {},
   "source": [
    "## Convert to CSV"
   ]
  },
  {
   "cell_type": "code",
   "execution_count": 24,
   "metadata": {},
   "outputs": [
    {
     "data": {
      "application/vnd.jupyter.widget-view+json": {
       "model_id": "a2999123f3ba47debc6967ec18c73070",
       "version_major": 2,
       "version_minor": 0
      },
      "text/plain": [
       "HBox(children=(FloatProgress(value=0.0, max=1625.0), HTML(value='')))"
      ]
     },
     "metadata": {},
     "output_type": "display_data"
    },
    {
     "name": "stdout",
     "output_type": "stream",
     "text": [
      "\n"
     ]
    }
   ],
   "source": [
    "cleaned_files = []\n",
    "\n",
    "for file in tqdm(all_files):\n",
    "    features = [\n",
    "        file['paper_id'],\n",
    "        file['metadata']['title'],\n",
    "        format_authors(file['metadata']['authors']),\n",
    "        format_authors(file['metadata']['authors'], \n",
    "                       with_affiliation=True),\n",
    "        format_body(file['abstract']),\n",
    "        format_body(file['body_text']),\n",
    "        format_bib(file['bib_entries']),\n",
    "        file['metadata']['authors'],\n",
    "        file['bib_entries']\n",
    "    ]\n",
    "    \n",
    "    cleaned_files.append(features)"
   ]
  },
  {
   "cell_type": "code",
   "execution_count": 25,
   "metadata": {},
   "outputs": [
    {
     "data": {
      "text/html": [
       "<div>\n",
       "<style scoped>\n",
       "    .dataframe tbody tr th:only-of-type {\n",
       "        vertical-align: middle;\n",
       "    }\n",
       "\n",
       "    .dataframe tbody tr th {\n",
       "        vertical-align: top;\n",
       "    }\n",
       "\n",
       "    .dataframe thead th {\n",
       "        text-align: right;\n",
       "    }\n",
       "</style>\n",
       "<table border=\"1\" class=\"dataframe\">\n",
       "  <thead>\n",
       "    <tr style=\"text-align: right;\">\n",
       "      <th></th>\n",
       "      <th>paper_id</th>\n",
       "      <th>title</th>\n",
       "      <th>authors</th>\n",
       "      <th>affiliations</th>\n",
       "      <th>abstract</th>\n",
       "      <th>text</th>\n",
       "      <th>bibliography</th>\n",
       "      <th>raw_authors</th>\n",
       "      <th>raw_bibliography</th>\n",
       "    </tr>\n",
       "  </thead>\n",
       "  <tbody>\n",
       "    <tr>\n",
       "      <th>0</th>\n",
       "      <td>0015023cc06b5362d332b3baf348d11567ca2fbb</td>\n",
       "      <td>The RNA pseudoknots in foot-and-mouth disease ...</td>\n",
       "      <td>Joseph C Ward, Lidia Lasecka-Dykes, Chris Neil...</td>\n",
       "      <td>Joseph C Ward, Lidia Lasecka-Dykes, Chris Neil...</td>\n",
       "      <td>Abstract\\n\\nword count: 194 22 Text word count...</td>\n",
       "      <td>\\n\\nVP3, and VP0 (which is further processed t...</td>\n",
       "      <td>Genetic economy in 598 picornaviruses: Foot-an...</td>\n",
       "      <td>[{'first': 'Joseph', 'middle': ['C'], 'last': ...</td>\n",
       "      <td>{'BIBREF0': {'ref_id': 'b0', 'title': 'Genetic...</td>\n",
       "    </tr>\n",
       "    <tr>\n",
       "      <th>1</th>\n",
       "      <td>00340eea543336d54adda18236424de6a5e91c9d</td>\n",
       "      <td>Analysis Title: Regaining perspective on SARS-...</td>\n",
       "      <td>Carla Mavian, Simone Marini, Costanza Manes, I...</td>\n",
       "      <td>Carla Mavian (University of Florida, Gainesvil...</td>\n",
       "      <td>Abstract\\n\\nDuring the past three months, a ne...</td>\n",
       "      <td>\\n\\nIn December 2019, a novel coronavirus, SAR...</td>\n",
       "      <td>Situation Report -43, , Coronavirus disease 20...</td>\n",
       "      <td>[{'first': 'Carla', 'middle': [], 'last': 'Mav...</td>\n",
       "      <td>{'BIBREF0': {'ref_id': 'b0', 'title': 'Situati...</td>\n",
       "    </tr>\n",
       "    <tr>\n",
       "      <th>2</th>\n",
       "      <td>004f0f8bb66cf446678dc13cf2701feec4f36d76</td>\n",
       "      <td>Healthcare-resource-adjusted vulnerabilities t...</td>\n",
       "      <td>Hanchu Zhou, Jiannan Yang, Kaicheng Tang, † , ...</td>\n",
       "      <td>Hanchu Zhou (City University of Hong Kong, Hon...</td>\n",
       "      <td></td>\n",
       "      <td>Introduction\\n\\nThe 2019-nCoV epidemic has spr...</td>\n",
       "      <td>World Health Organizations. Novel Coronavirus ...</td>\n",
       "      <td>[{'first': 'Hanchu', 'middle': [], 'last': 'Zh...</td>\n",
       "      <td>{'BIBREF0': {'ref_id': 'b0', 'title': 'World H...</td>\n",
       "    </tr>\n",
       "    <tr>\n",
       "      <th>3</th>\n",
       "      <td>00911cf4f99a3d5ae5e5b787675646a743574496</td>\n",
       "      <td>CHEER: hierarCHical taxonomic classification f...</td>\n",
       "      <td>Jiayu Shang, Yanni Sun</td>\n",
       "      <td>Jiayu Shang (City University of Hong Kong, Hon...</td>\n",
       "      <td>Abstract\\n\\nThe fast accumulation of viral met...</td>\n",
       "      <td>Introduction\\n\\nMetagenomic sequencing, which ...</td>\n",
       "      <td>Application of metagenomics in the human gut m...</td>\n",
       "      <td>[{'first': 'Jiayu', 'middle': [], 'last': 'Sha...</td>\n",
       "      <td>{'BIBREF0': {'ref_id': 'b0', 'title': 'Applica...</td>\n",
       "    </tr>\n",
       "    <tr>\n",
       "      <th>4</th>\n",
       "      <td>00d16927588fb04d4be0e6b269fc02f0d3c2aa7b</td>\n",
       "      <td>Real-time, MinION-based, amplicon sequencing f...</td>\n",
       "      <td>Salman L Butt, Eric C Erwood, Jian Zhang, Holl...</td>\n",
       "      <td>Salman L Butt (University of Georgia, 30602, A...</td>\n",
       "      <td>Abstract\\n\\nInfectious bronchitis (IB) causes ...</td>\n",
       "      <td>Introduction\\n\\nInfectious bronchitis (IB), wh...</td>\n",
       "      <td>Emergence of novel strains of avian infectious...</td>\n",
       "      <td>[{'first': 'Salman', 'middle': ['L'], 'last': ...</td>\n",
       "      <td>{'BIBREF0': {'ref_id': 'b0', 'title': 'Emergen...</td>\n",
       "    </tr>\n",
       "    <tr>\n",
       "      <th>5</th>\n",
       "      <td>00eb9220dc8cd351393b6b035323d350f103f8c6</td>\n",
       "      <td>Title: Impact of COVID-19 on psychiatric asses...</td>\n",
       "      <td>Victor M Castro, Roy H Perlis</td>\n",
       "      <td>Victor M Castro (Massachusetts General Hospita...</td>\n",
       "      <td></td>\n",
       "      <td>Introduction\\n\\nEvidence from prior pandemics ...</td>\n",
       "      <td>The psychological impact of severe acute respi...</td>\n",
       "      <td>[{'first': 'Victor', 'middle': ['M'], 'last': ...</td>\n",
       "      <td>{'BIBREF4': {'ref_id': 'b4', 'title': 'The psy...</td>\n",
       "    </tr>\n",
       "    <tr>\n",
       "      <th>6</th>\n",
       "      <td>0139ea4ca580af99b602c6435368e7fdbefacb03</td>\n",
       "      <td>A Combined Evidence Approach to Prioritize Nip...</td>\n",
       "      <td>Nishi Kumari, Ayush Upadhyay, Kishan Kalia, Ra...</td>\n",
       "      <td>Nishi Kumari (Panjab University, Chandigarh, I...</td>\n",
       "      <td>Abstract\\n\\nNipah Virus (NiV) came into limeli...</td>\n",
       "      <td>Introduction\\n\\nNipah is an infectious negativ...</td>\n",
       "      <td>Molecular biology of Hendra and Nipah viruses,...</td>\n",
       "      <td>[{'first': 'Nishi', 'middle': [], 'last': 'Kum...</td>\n",
       "      <td>{'BIBREF0': {'ref_id': 'b0', 'title': 'Molecul...</td>\n",
       "    </tr>\n",
       "    <tr>\n",
       "      <th>7</th>\n",
       "      <td>013d9d1cba8a54d5d3718c229b812d7cf91b6c89</td>\n",
       "      <td>Assessing spread risk of Wuhan novel coronavir...</td>\n",
       "      <td>Shengjie Lai, Isaac I Bogoch, Nick W Ruktanonc...</td>\n",
       "      <td>Shengjie Lai (University of Southampton, UK), ...</td>\n",
       "      <td>Abstract\\n\\nBackground: A novel coronavirus (2...</td>\n",
       "      <td>Introduction\\n\\nIn December 2019, a cluster of...</td>\n",
       "      <td>A Novel Coronavirus Genome Identified in a Clu...</td>\n",
       "      <td>[{'first': 'Shengjie', 'middle': [], 'last': '...</td>\n",
       "      <td>{'BIBREF0': {'ref_id': 'b0', 'title': 'A Novel...</td>\n",
       "    </tr>\n",
       "    <tr>\n",
       "      <th>8</th>\n",
       "      <td>018fb5e62fbbcae07d57d94d29ac630dcc4dccf9</td>\n",
       "      <td>TITLE: The early scientific literature respons...</td>\n",
       "      <td>Davide Gori, Erik Boetto, Maria Pia Fantini</td>\n",
       "      <td>Davide Gori (University of Bologna), Erik Boet...</td>\n",
       "      <td>Abstract\\n\\nAll rights reserved. No reuse allo...</td>\n",
       "      <td>Introduction\\n\\nRecent events highlight how em...</td>\n",
       "      <td>A\"IV to, G F Gao,  From, Z\"IKV: Attacks from E...</td>\n",
       "      <td>[{'first': 'Davide', 'middle': [], 'last': 'Go...</td>\n",
       "      <td>{'BIBREF0': {'ref_id': 'b0', 'title': 'A\"IV to...</td>\n",
       "    </tr>\n",
       "    <tr>\n",
       "      <th>9</th>\n",
       "      <td>01d162d7fae6aaba8e6e60e563ef4c2fca7b0e18</td>\n",
       "      <td>TWIRLS, an automated topic-wise inference meth...</td>\n",
       "      <td>Xiaoyang Ji, Chunming Zhang, Yubo Zhai, Zhongh...</td>\n",
       "      <td>Xiaoyang Ji (Chinese Academy of Sciences, Beij...</td>\n",
       "      <td>Abstract\\n\\nFaced with the current large-scale...</td>\n",
       "      <td>Introduction\\n\\nThe sudden outbreak of the new...</td>\n",
       "      <td>A pneumonia outbreak associated with a new cor...</td>\n",
       "      <td>[{'first': 'Xiaoyang', 'middle': [], 'last': '...</td>\n",
       "      <td>{'BIBREF0': {'ref_id': 'b0', 'title': 'A pneum...</td>\n",
       "    </tr>\n",
       "  </tbody>\n",
       "</table>\n",
       "</div>"
      ],
      "text/plain": [
       "                                   paper_id  \\\n",
       "0  0015023cc06b5362d332b3baf348d11567ca2fbb   \n",
       "1  00340eea543336d54adda18236424de6a5e91c9d   \n",
       "2  004f0f8bb66cf446678dc13cf2701feec4f36d76   \n",
       "3  00911cf4f99a3d5ae5e5b787675646a743574496   \n",
       "4  00d16927588fb04d4be0e6b269fc02f0d3c2aa7b   \n",
       "5  00eb9220dc8cd351393b6b035323d350f103f8c6   \n",
       "6  0139ea4ca580af99b602c6435368e7fdbefacb03   \n",
       "7  013d9d1cba8a54d5d3718c229b812d7cf91b6c89   \n",
       "8  018fb5e62fbbcae07d57d94d29ac630dcc4dccf9   \n",
       "9  01d162d7fae6aaba8e6e60e563ef4c2fca7b0e18   \n",
       "\n",
       "                                               title  \\\n",
       "0  The RNA pseudoknots in foot-and-mouth disease ...   \n",
       "1  Analysis Title: Regaining perspective on SARS-...   \n",
       "2  Healthcare-resource-adjusted vulnerabilities t...   \n",
       "3  CHEER: hierarCHical taxonomic classification f...   \n",
       "4  Real-time, MinION-based, amplicon sequencing f...   \n",
       "5  Title: Impact of COVID-19 on psychiatric asses...   \n",
       "6  A Combined Evidence Approach to Prioritize Nip...   \n",
       "7  Assessing spread risk of Wuhan novel coronavir...   \n",
       "8  TITLE: The early scientific literature respons...   \n",
       "9  TWIRLS, an automated topic-wise inference meth...   \n",
       "\n",
       "                                             authors  \\\n",
       "0  Joseph C Ward, Lidia Lasecka-Dykes, Chris Neil...   \n",
       "1  Carla Mavian, Simone Marini, Costanza Manes, I...   \n",
       "2  Hanchu Zhou, Jiannan Yang, Kaicheng Tang, † , ...   \n",
       "3                             Jiayu Shang, Yanni Sun   \n",
       "4  Salman L Butt, Eric C Erwood, Jian Zhang, Holl...   \n",
       "5                      Victor M Castro, Roy H Perlis   \n",
       "6  Nishi Kumari, Ayush Upadhyay, Kishan Kalia, Ra...   \n",
       "7  Shengjie Lai, Isaac I Bogoch, Nick W Ruktanonc...   \n",
       "8        Davide Gori, Erik Boetto, Maria Pia Fantini   \n",
       "9  Xiaoyang Ji, Chunming Zhang, Yubo Zhai, Zhongh...   \n",
       "\n",
       "                                        affiliations  \\\n",
       "0  Joseph C Ward, Lidia Lasecka-Dykes, Chris Neil...   \n",
       "1  Carla Mavian (University of Florida, Gainesvil...   \n",
       "2  Hanchu Zhou (City University of Hong Kong, Hon...   \n",
       "3  Jiayu Shang (City University of Hong Kong, Hon...   \n",
       "4  Salman L Butt (University of Georgia, 30602, A...   \n",
       "5  Victor M Castro (Massachusetts General Hospita...   \n",
       "6  Nishi Kumari (Panjab University, Chandigarh, I...   \n",
       "7  Shengjie Lai (University of Southampton, UK), ...   \n",
       "8  Davide Gori (University of Bologna), Erik Boet...   \n",
       "9  Xiaoyang Ji (Chinese Academy of Sciences, Beij...   \n",
       "\n",
       "                                            abstract  \\\n",
       "0  Abstract\\n\\nword count: 194 22 Text word count...   \n",
       "1  Abstract\\n\\nDuring the past three months, a ne...   \n",
       "2                                                      \n",
       "3  Abstract\\n\\nThe fast accumulation of viral met...   \n",
       "4  Abstract\\n\\nInfectious bronchitis (IB) causes ...   \n",
       "5                                                      \n",
       "6  Abstract\\n\\nNipah Virus (NiV) came into limeli...   \n",
       "7  Abstract\\n\\nBackground: A novel coronavirus (2...   \n",
       "8  Abstract\\n\\nAll rights reserved. No reuse allo...   \n",
       "9  Abstract\\n\\nFaced with the current large-scale...   \n",
       "\n",
       "                                                text  \\\n",
       "0  \\n\\nVP3, and VP0 (which is further processed t...   \n",
       "1  \\n\\nIn December 2019, a novel coronavirus, SAR...   \n",
       "2  Introduction\\n\\nThe 2019-nCoV epidemic has spr...   \n",
       "3  Introduction\\n\\nMetagenomic sequencing, which ...   \n",
       "4  Introduction\\n\\nInfectious bronchitis (IB), wh...   \n",
       "5  Introduction\\n\\nEvidence from prior pandemics ...   \n",
       "6  Introduction\\n\\nNipah is an infectious negativ...   \n",
       "7  Introduction\\n\\nIn December 2019, a cluster of...   \n",
       "8  Introduction\\n\\nRecent events highlight how em...   \n",
       "9  Introduction\\n\\nThe sudden outbreak of the new...   \n",
       "\n",
       "                                        bibliography  \\\n",
       "0  Genetic economy in 598 picornaviruses: Foot-an...   \n",
       "1  Situation Report -43, , Coronavirus disease 20...   \n",
       "2  World Health Organizations. Novel Coronavirus ...   \n",
       "3  Application of metagenomics in the human gut m...   \n",
       "4  Emergence of novel strains of avian infectious...   \n",
       "5  The psychological impact of severe acute respi...   \n",
       "6  Molecular biology of Hendra and Nipah viruses,...   \n",
       "7  A Novel Coronavirus Genome Identified in a Clu...   \n",
       "8  A\"IV to, G F Gao,  From, Z\"IKV: Attacks from E...   \n",
       "9  A pneumonia outbreak associated with a new cor...   \n",
       "\n",
       "                                         raw_authors  \\\n",
       "0  [{'first': 'Joseph', 'middle': ['C'], 'last': ...   \n",
       "1  [{'first': 'Carla', 'middle': [], 'last': 'Mav...   \n",
       "2  [{'first': 'Hanchu', 'middle': [], 'last': 'Zh...   \n",
       "3  [{'first': 'Jiayu', 'middle': [], 'last': 'Sha...   \n",
       "4  [{'first': 'Salman', 'middle': ['L'], 'last': ...   \n",
       "5  [{'first': 'Victor', 'middle': ['M'], 'last': ...   \n",
       "6  [{'first': 'Nishi', 'middle': [], 'last': 'Kum...   \n",
       "7  [{'first': 'Shengjie', 'middle': [], 'last': '...   \n",
       "8  [{'first': 'Davide', 'middle': [], 'last': 'Go...   \n",
       "9  [{'first': 'Xiaoyang', 'middle': [], 'last': '...   \n",
       "\n",
       "                                    raw_bibliography  \n",
       "0  {'BIBREF0': {'ref_id': 'b0', 'title': 'Genetic...  \n",
       "1  {'BIBREF0': {'ref_id': 'b0', 'title': 'Situati...  \n",
       "2  {'BIBREF0': {'ref_id': 'b0', 'title': 'World H...  \n",
       "3  {'BIBREF0': {'ref_id': 'b0', 'title': 'Applica...  \n",
       "4  {'BIBREF0': {'ref_id': 'b0', 'title': 'Emergen...  \n",
       "5  {'BIBREF4': {'ref_id': 'b4', 'title': 'The psy...  \n",
       "6  {'BIBREF0': {'ref_id': 'b0', 'title': 'Molecul...  \n",
       "7  {'BIBREF0': {'ref_id': 'b0', 'title': 'A Novel...  \n",
       "8  {'BIBREF0': {'ref_id': 'b0', 'title': 'A\"IV to...  \n",
       "9  {'BIBREF0': {'ref_id': 'b0', 'title': 'A pneum...  "
      ]
     },
     "execution_count": 25,
     "metadata": {},
     "output_type": "execute_result"
    }
   ],
   "source": [
    "## add some column names and throw into pandas dataframe\n",
    "\n",
    "col_names = [\n",
    "    'paper_id', \n",
    "    'title', \n",
    "    'authors',\n",
    "    'affiliations', \n",
    "    'abstract', \n",
    "    'text', \n",
    "    'bibliography',\n",
    "    'raw_authors',\n",
    "    'raw_bibliography'\n",
    "]\n",
    "\n",
    "clean_df = pd.DataFrame(cleaned_files, columns=col_names)\n",
    "clean_df.head(10)"
   ]
  },
  {
   "cell_type": "code",
   "execution_count": 26,
   "metadata": {},
   "outputs": [],
   "source": [
    "## aaaaaaand generate csv\n",
    "\n",
    "clean_df.to_csv('biorxiv_clean.csv', index=False)"
   ]
  },
  {
   "cell_type": "code",
   "execution_count": 27,
   "metadata": {},
   "outputs": [
    {
     "data": {
      "application/vnd.jupyter.widget-view+json": {
       "model_id": "9a66a124055b48ab8c0bc6ca991bf6fa",
       "version_major": 2,
       "version_minor": 0
      },
      "text/plain": [
       "HBox(children=(FloatProgress(value=0.0, max=7802.0), HTML(value='')))"
      ]
     },
     "metadata": {},
     "output_type": "display_data"
    },
    {
     "name": "stdout",
     "output_type": "stream",
     "text": [
      "\n"
     ]
    }
   ],
   "source": [
    "## let's do the same with the other json components...\n",
    "\n",
    "pmc_dir = '../data/interim/custom_license/pmc_json/'\n",
    "pmc_files = load_files(pmc_dir)\n"
   ]
  },
  {
   "cell_type": "code",
   "execution_count": null,
   "metadata": {},
   "outputs": [],
   "source": [
    "filenames = os.listdir(pmc_dir)\n",
    "print(\"Number of articles retrieved from biorxiv:\", len(filenames))\n",
    "\n",
    "\n",
    "filename = pmc_dir + filenames[0]\n",
    "file = json.load(open(filename, 'rb'))\n",
    "\n",
    "print(\"Dictionary keys:\", file.keys())"
   ]
  },
  {
   "cell_type": "code",
   "execution_count": 30,
   "metadata": {},
   "outputs": [
    {
     "data": {
      "application/vnd.jupyter.widget-view+json": {
       "model_id": "c448516c094547f9b516d2224b0eb38d",
       "version_major": 2,
       "version_minor": 0
      },
      "text/plain": [
       "HBox(children=(FloatProgress(value=0.0, max=26505.0), HTML(value='')))"
      ]
     },
     "metadata": {},
     "output_type": "display_data"
    },
    {
     "name": "stdout",
     "output_type": "stream",
     "text": [
      "\n"
     ]
    }
   ],
   "source": [
    "pdf_dir = '../data/interim/custom_license/pdf_json/'\n",
    "pdf_files = load_files(pdf_dir)"
   ]
  },
  {
   "cell_type": "code",
   "execution_count": null,
   "metadata": {},
   "outputs": [],
   "source": [
    "pmc_df = generate_clean_df(pmc_files)\n",
    "pmc_df.to_csv('clean_pmc.csv', index=False)\n",
    "pmc_df.head()"
   ]
  },
  {
   "cell_type": "code",
   "execution_count": 31,
   "metadata": {},
   "outputs": [
    {
     "name": "stdout",
     "output_type": "stream",
     "text": [
      "Number of articles retrieved from biorxiv: 26505\n",
      "Dictionary keys: dict_keys(['paper_id', 'metadata', 'abstract', 'body_text', 'bib_entries', 'ref_entries', 'back_matter'])\n"
     ]
    }
   ],
   "source": [
    "filenames = os.listdir(pdf_dir)\n",
    "print(\"Number of articles retrieved from biorxiv:\", len(filenames))\n",
    "\n",
    "\n",
    "filename = pdf_dir + filenames[0]\n",
    "file = json.load(open(filename, 'rb'))\n",
    "\n",
    "print(\"Dictionary keys:\", file.keys())"
   ]
  },
  {
   "cell_type": "code",
   "execution_count": 32,
   "metadata": {},
   "outputs": [
    {
     "data": {
      "application/vnd.jupyter.widget-view+json": {
       "model_id": "9e85c3eb5ba04314aac39f49ec08dab7",
       "version_major": 2,
       "version_minor": 0
      },
      "text/plain": [
       "HBox(children=(FloatProgress(value=0.0, max=26505.0), HTML(value='')))"
      ]
     },
     "metadata": {},
     "output_type": "display_data"
    },
    {
     "name": "stdout",
     "output_type": "stream",
     "text": [
      "\n"
     ]
    },
    {
     "data": {
      "text/html": [
       "<div>\n",
       "<style scoped>\n",
       "    .dataframe tbody tr th:only-of-type {\n",
       "        vertical-align: middle;\n",
       "    }\n",
       "\n",
       "    .dataframe tbody tr th {\n",
       "        vertical-align: top;\n",
       "    }\n",
       "\n",
       "    .dataframe thead th {\n",
       "        text-align: right;\n",
       "    }\n",
       "</style>\n",
       "<table border=\"1\" class=\"dataframe\">\n",
       "  <thead>\n",
       "    <tr style=\"text-align: right;\">\n",
       "      <th></th>\n",
       "      <th>paper_id</th>\n",
       "      <th>title</th>\n",
       "      <th>authors</th>\n",
       "      <th>affiliations</th>\n",
       "      <th>abstract</th>\n",
       "      <th>text</th>\n",
       "      <th>bibliography</th>\n",
       "      <th>raw_authors</th>\n",
       "      <th>raw_bibliography</th>\n",
       "    </tr>\n",
       "  </thead>\n",
       "  <tbody>\n",
       "    <tr>\n",
       "      <th>0</th>\n",
       "      <td>0001418189999fea7f7cbe3e82703d71c85a6fe5</td>\n",
       "      <td>Absence of surface expression of feline infect...</td>\n",
       "      <td>E Cornelissen, H L Dewerchin, E Van Hamme, H J...</td>\n",
       "      <td>E Cornelissen (Ghent University, Salisburylaan...</td>\n",
       "      <td>Abstract\\n\\nFeline infectious peritonitis viru...</td>\n",
       "      <td>Introduction\\n\\nFeline infectious peritonitis ...</td>\n",
       "      <td>Using direct immunofluorescence to detect coro...</td>\n",
       "      <td>[{'first': 'E', 'middle': [], 'last': 'Corneli...</td>\n",
       "      <td>{'BIBREF0': {'ref_id': 'b0', 'title': 'Using d...</td>\n",
       "    </tr>\n",
       "    <tr>\n",
       "      <th>1</th>\n",
       "      <td>00016663c74157a66b4d509d5c4edffd5391bbe0</td>\n",
       "      <td></td>\n",
       "      <td></td>\n",
       "      <td></td>\n",
       "      <td></td>\n",
       "      <td>Introduction\\n\\nViruses are increasingly recog...</td>\n",
       "      <td>Principles of Virology in Fields Virology, R C...</td>\n",
       "      <td>[]</td>\n",
       "      <td>{'BIBREF0': {'ref_id': 'b0', 'title': 'Princip...</td>\n",
       "    </tr>\n",
       "    <tr>\n",
       "      <th>2</th>\n",
       "      <td>0005d253951fedc237715a37db147032eea28912</td>\n",
       "      <td></td>\n",
       "      <td></td>\n",
       "      <td></td>\n",
       "      <td></td>\n",
       "      <td>\\n\\nSynthesized by William Prusoff in the late...</td>\n",
       "      <td>Molecular basis of interferon resistance in he...</td>\n",
       "      <td>[]</td>\n",
       "      <td>{'BIBREF0': {'ref_id': 'b0', 'title': 'Molecul...</td>\n",
       "    </tr>\n",
       "    <tr>\n",
       "      <th>3</th>\n",
       "      <td>00060fb61742ff60e4e3ba4648c74a34cfe9560d</td>\n",
       "      <td></td>\n",
       "      <td>Jesi Kim, Todd Thomsen, Naomi Sell, Andrew J G...</td>\n",
       "      <td>Jesi Kim (Harvard Medical School, Boston, MA, ...</td>\n",
       "      <td></td>\n",
       "      <td>Introduction\\n\\nThe outbreak of a novel corona...</td>\n",
       "      <td>An interactive web-based dashboard to track CO...</td>\n",
       "      <td>[{'first': 'Jesi', 'middle': [], 'last': 'Kim'...</td>\n",
       "      <td>{'BIBREF0': {'ref_id': 'b0', 'title': 'An inte...</td>\n",
       "    </tr>\n",
       "    <tr>\n",
       "      <th>4</th>\n",
       "      <td>00073cb65dd2596249230fab8b15a71c4a135895</td>\n",
       "      <td>Risk Parameters of Fulminant Acute Respiratory...</td>\n",
       "      <td>Shoji Kawachi, San Thi Luong, Mika Shigematsu,...</td>\n",
       "      <td>Shoji Kawachi, San Thi Luong (National Hospita...</td>\n",
       "      <td>Abstract\\n\\nA clinical picture of patients wit...</td>\n",
       "      <td>\\n\\nSince then, many clinical case reports hav...</td>\n",
       "      <td>Characterization of avian H5N1 influenza virus...</td>\n",
       "      <td>[{'first': 'Shoji', 'middle': [], 'last': 'Kaw...</td>\n",
       "      <td>{'BIBREF0': {'ref_id': 'b0', 'title': 'Charact...</td>\n",
       "    </tr>\n",
       "  </tbody>\n",
       "</table>\n",
       "</div>"
      ],
      "text/plain": [
       "                                   paper_id  \\\n",
       "0  0001418189999fea7f7cbe3e82703d71c85a6fe5   \n",
       "1  00016663c74157a66b4d509d5c4edffd5391bbe0   \n",
       "2  0005d253951fedc237715a37db147032eea28912   \n",
       "3  00060fb61742ff60e4e3ba4648c74a34cfe9560d   \n",
       "4  00073cb65dd2596249230fab8b15a71c4a135895   \n",
       "\n",
       "                                               title  \\\n",
       "0  Absence of surface expression of feline infect...   \n",
       "1                                                      \n",
       "2                                                      \n",
       "3                                                      \n",
       "4  Risk Parameters of Fulminant Acute Respiratory...   \n",
       "\n",
       "                                             authors  \\\n",
       "0  E Cornelissen, H L Dewerchin, E Van Hamme, H J...   \n",
       "1                                                      \n",
       "2                                                      \n",
       "3  Jesi Kim, Todd Thomsen, Naomi Sell, Andrew J G...   \n",
       "4  Shoji Kawachi, San Thi Luong, Mika Shigematsu,...   \n",
       "\n",
       "                                        affiliations  \\\n",
       "0  E Cornelissen (Ghent University, Salisburylaan...   \n",
       "1                                                      \n",
       "2                                                      \n",
       "3  Jesi Kim (Harvard Medical School, Boston, MA, ...   \n",
       "4  Shoji Kawachi, San Thi Luong (National Hospita...   \n",
       "\n",
       "                                            abstract  \\\n",
       "0  Abstract\\n\\nFeline infectious peritonitis viru...   \n",
       "1                                                      \n",
       "2                                                      \n",
       "3                                                      \n",
       "4  Abstract\\n\\nA clinical picture of patients wit...   \n",
       "\n",
       "                                                text  \\\n",
       "0  Introduction\\n\\nFeline infectious peritonitis ...   \n",
       "1  Introduction\\n\\nViruses are increasingly recog...   \n",
       "2  \\n\\nSynthesized by William Prusoff in the late...   \n",
       "3  Introduction\\n\\nThe outbreak of a novel corona...   \n",
       "4  \\n\\nSince then, many clinical case reports hav...   \n",
       "\n",
       "                                        bibliography  \\\n",
       "0  Using direct immunofluorescence to detect coro...   \n",
       "1  Principles of Virology in Fields Virology, R C...   \n",
       "2  Molecular basis of interferon resistance in he...   \n",
       "3  An interactive web-based dashboard to track CO...   \n",
       "4  Characterization of avian H5N1 influenza virus...   \n",
       "\n",
       "                                         raw_authors  \\\n",
       "0  [{'first': 'E', 'middle': [], 'last': 'Corneli...   \n",
       "1                                                 []   \n",
       "2                                                 []   \n",
       "3  [{'first': 'Jesi', 'middle': [], 'last': 'Kim'...   \n",
       "4  [{'first': 'Shoji', 'middle': [], 'last': 'Kaw...   \n",
       "\n",
       "                                    raw_bibliography  \n",
       "0  {'BIBREF0': {'ref_id': 'b0', 'title': 'Using d...  \n",
       "1  {'BIBREF0': {'ref_id': 'b0', 'title': 'Princip...  \n",
       "2  {'BIBREF0': {'ref_id': 'b0', 'title': 'Molecul...  \n",
       "3  {'BIBREF0': {'ref_id': 'b0', 'title': 'An inte...  \n",
       "4  {'BIBREF0': {'ref_id': 'b0', 'title': 'Charact...  "
      ]
     },
     "execution_count": 32,
     "metadata": {},
     "output_type": "execute_result"
    }
   ],
   "source": [
    "pdf_df = generate_clean_df(pdf_files)\n",
    "pdf_df.to_csv('clean_pdf.csv', index=False)\n",
    "pdf_df.head()"
   ]
  },
  {
   "cell_type": "code",
   "execution_count": 33,
   "metadata": {},
   "outputs": [
    {
     "data": {
      "application/vnd.jupyter.widget-view+json": {
       "model_id": "dfd9155d8b2947478ad68b790fa89d60",
       "version_major": 2,
       "version_minor": 0
      },
      "text/plain": [
       "HBox(children=(FloatProgress(value=0.0, max=9524.0), HTML(value='')))"
      ]
     },
     "metadata": {},
     "output_type": "display_data"
    },
    {
     "name": "stdout",
     "output_type": "stream",
     "text": [
      "\n"
     ]
    },
    {
     "data": {
      "application/vnd.jupyter.widget-view+json": {
       "model_id": "b5f43451d6d1457c9b49d97073b38af9",
       "version_major": 2,
       "version_minor": 0
      },
      "text/plain": [
       "HBox(children=(FloatProgress(value=0.0, max=9524.0), HTML(value='')))"
      ]
     },
     "metadata": {},
     "output_type": "display_data"
    },
    {
     "name": "stdout",
     "output_type": "stream",
     "text": [
      "\n"
     ]
    }
   ],
   "source": [
    "pdf_dir = '../data/interim/comm_use_subset/pdf_json/'\n",
    "pdf_files = load_files(pdf_dir)\n",
    "pdf_df = generate_clean_df(pdf_files)\n",
    "pdf_df.to_csv('comm_use_subset.csv', index=False)"
   ]
  },
  {
   "cell_type": "code",
   "execution_count": 34,
   "metadata": {},
   "outputs": [
    {
     "data": {
      "application/vnd.jupyter.widget-view+json": {
       "model_id": "0c3e58f20eab43dc9d823dabc95380a6",
       "version_major": 2,
       "version_minor": 0
      },
      "text/plain": [
       "HBox(children=(FloatProgress(value=0.0, max=2490.0), HTML(value='')))"
      ]
     },
     "metadata": {},
     "output_type": "display_data"
    },
    {
     "name": "stdout",
     "output_type": "stream",
     "text": [
      "\n"
     ]
    },
    {
     "data": {
      "application/vnd.jupyter.widget-view+json": {
       "model_id": "757548706556459690da769824935afe",
       "version_major": 2,
       "version_minor": 0
      },
      "text/plain": [
       "HBox(children=(FloatProgress(value=0.0, max=2490.0), HTML(value='')))"
      ]
     },
     "metadata": {},
     "output_type": "display_data"
    },
    {
     "name": "stdout",
     "output_type": "stream",
     "text": [
      "\n"
     ]
    }
   ],
   "source": [
    "pdf_dir = '../data/interim/noncomm_use_subset/pdf_json/'\n",
    "pdf_files = load_files(pdf_dir)\n",
    "pdf_df = generate_clean_df(pdf_files)\n",
    "pdf_df.to_csv('noncomm_use_subset.csv', index=False)"
   ]
  }
 ],
 "metadata": {
  "kernelspec": {
   "display_name": "Python 3",
   "language": "python",
   "name": "python3"
  },
  "language_info": {
   "codemirror_mode": {
    "name": "ipython",
    "version": 3
   },
   "file_extension": ".py",
   "mimetype": "text/x-python",
   "name": "python",
   "nbconvert_exporter": "python",
   "pygments_lexer": "ipython3",
   "version": "3.7.4"
  }
 },
 "nbformat": 4,
 "nbformat_minor": 2
}
